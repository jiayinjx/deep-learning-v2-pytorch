{
 "cells": [
  {
   "cell_type": "markdown",
   "metadata": {},
   "source": [
    "# Neural networks with PyTorch\n",
    "\n",
    "Deep learning networks tend to be massive with dozens or hundreds of layers, that's where the term \"deep\" comes from. You can build one of these deep networks using only weight matrices as we did in the previous notebook, but in general it's very cumbersome and difficult to implement. PyTorch has a nice module `nn` that provides a nice way to efficiently build large neural networks."
   ]
  },
  {
   "cell_type": "code",
<<<<<<< HEAD
   "execution_count": 1,
=======
   "execution_count": null,
>>>>>>> f7eab40968ea95fd33f463cecaec4bb8cd2669fa
   "metadata": {},
   "outputs": [],
   "source": [
    "# Import necessary packages\n",
    "\n",
    "%matplotlib inline\n",
    "%config InlineBackend.figure_format = 'retina'\n",
    "\n",
    "import numpy as np\n",
    "import torch\n",
    "\n",
    "import helper\n",
    "\n",
    "import matplotlib.pyplot as plt"
   ]
  },
  {
   "cell_type": "markdown",
   "metadata": {},
   "source": [
    "\n",
    "Now we're going to build a larger network that can solve a (formerly) difficult problem, identifying text in an image. Here we'll use the MNIST dataset which consists of greyscale handwritten digits. Each image is 28x28 pixels, you can see a sample below\n",
    "\n",
    "<img src='assets/mnist.png'>\n",
    "\n",
    "Our goal is to build a neural network that can take one of these images and predict the digit in the image.\n",
    "\n",
    "First up, we need to get our dataset. This is provided through the `torchvision` package. The code below will download the MNIST dataset, then create training and test datasets for us. Don't worry too much about the details here, you'll learn more about this later."
   ]
  },
  {
   "cell_type": "code",
<<<<<<< HEAD
   "execution_count": 2,
   "metadata": {},
   "outputs": [
    {
     "name": "stdout",
     "output_type": "stream",
     "text": [
      "Downloading http://yann.lecun.com/exdb/mnist/train-images-idx3-ubyte.gz\n",
      "Downloading http://yann.lecun.com/exdb/mnist/train-labels-idx1-ubyte.gz\n",
      "Downloading http://yann.lecun.com/exdb/mnist/t10k-images-idx3-ubyte.gz\n",
      "Downloading http://yann.lecun.com/exdb/mnist/t10k-labels-idx1-ubyte.gz\n",
      "Processing...\n",
      "Done!\n"
     ]
    }
   ],
=======
   "execution_count": null,
   "metadata": {},
   "outputs": [],
>>>>>>> f7eab40968ea95fd33f463cecaec4bb8cd2669fa
   "source": [
    "### Run this cell\n",
    "\n",
    "from torchvision import datasets, transforms\n",
    "\n",
    "# Define a transform to normalize the data\n",
    "transform = transforms.Compose([transforms.ToTensor(),\n",
    "                              transforms.Normalize((0.5,), (0.5,)),\n",
    "                              ])\n",
    "\n",
    "# Download and load the training data\n",
    "trainset = datasets.MNIST('~/.pytorch/MNIST_data/', download=True, train=True, transform=transform)\n",
    "trainloader = torch.utils.data.DataLoader(trainset, batch_size=64, shuffle=True)"
   ]
  },
  {
   "cell_type": "markdown",
   "metadata": {},
   "source": [
    "We have the training data loaded into `trainloader` and we make that an iterator with `iter(trainloader)`. Later, we'll use this to loop through the dataset for training, like\n",
    "\n",
    "```python\n",
    "for image, label in trainloader:\n",
    "    ## do things with images and labels\n",
    "```\n",
    "\n",
    "You'll notice I created the `trainloader` with a batch size of 64, and `shuffle=True`. The batch size is the number of images we get in one iteration from the data loader and pass through our network, often called a *batch*. And `shuffle=True` tells it to shuffle the dataset every time we start going through the data loader again. But here I'm just grabbing the first batch so we can check out the data. We can see below that `images` is just a tensor with size `(64, 1, 28, 28)`. So, 64 images per batch, 1 color channel, and 28x28 images."
   ]
  },
  {
   "cell_type": "code",
<<<<<<< HEAD
   "execution_count": 3,
   "metadata": {},
   "outputs": [
    {
     "name": "stdout",
     "output_type": "stream",
     "text": [
      "<class 'torch.Tensor'>\n",
      "torch.Size([64, 1, 28, 28])\n",
      "torch.Size([64])\n"
     ]
    }
   ],
=======
   "execution_count": null,
   "metadata": {},
   "outputs": [],
>>>>>>> f7eab40968ea95fd33f463cecaec4bb8cd2669fa
   "source": [
    "dataiter = iter(trainloader)\n",
    "images, labels = dataiter.next()\n",
    "print(type(images))\n",
    "print(images.shape)\n",
    "print(labels.shape)"
   ]
  },
  {
   "cell_type": "markdown",
   "metadata": {},
   "source": [
    "This is what one of the images looks like. "
   ]
  },
  {
   "cell_type": "code",
<<<<<<< HEAD
   "execution_count": 5,
   "metadata": {},
   "outputs": [
    {
     "data": {
      "image/png": "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\n",
      "text/plain": [
       "<Figure size 432x288 with 1 Axes>"
      ]
     },
     "metadata": {
      "image/png": {
       "height": 250,
       "width": 253
      },
      "needs_background": "light"
     },
     "output_type": "display_data"
    }
   ],
=======
   "execution_count": null,
   "metadata": {},
   "outputs": [],
>>>>>>> f7eab40968ea95fd33f463cecaec4bb8cd2669fa
   "source": [
    "plt.imshow(images[1].numpy().squeeze(), cmap='Greys_r');"
   ]
  },
  {
   "cell_type": "markdown",
   "metadata": {},
   "source": [
    "First, let's try to build a simple network for this dataset using weight matrices and matrix multiplications. Then, we'll see how to do it using PyTorch's `nn` module which provides a much more convenient and powerful method for defining network architectures.\n",
    "\n",
    "The networks you've seen so far are called *fully-connected* or *dense* networks. Each unit in one layer is connected to each unit in the next layer. In fully-connected networks, the input to each layer must be a one-dimensional vector (which can be stacked into a 2D tensor as a batch of multiple examples). However, our images are 28x28 2D tensors, so we need to convert them into 1D vectors. Thinking about sizes, we need to convert the batch of images with shape `(64, 1, 28, 28)` to a have a shape of `(64, 784)`, 784 is 28 times 28. This is typically called *flattening*, we flattened the 2D images into 1D vectors.\n",
    "\n",
    "Previously you built a network with one output unit. Here we need 10 output units, one for each digit. We want our network to predict the digit shown in an image, so what we'll do is calculate probabilities that the image is of any one digit or class. This ends up being a discrete probability distribution over the classes (digits) that tells us the most likely class for the image. That means we need 10 output units for the 10 classes (digits). We'll see how to convert the network output into a probability distribution next.\n",
    "\n",
    "> **Exercise:** Flatten the batch of images `images`. Then build a multi-layer network with 784 input units, 256 hidden units, and 10 output units using random tensors for the weights and biases. For now, use a sigmoid activation for the hidden layer. Leave the output layer without an activation, we'll add one that gives us a probability distribution next."
   ]
  },
  {
   "cell_type": "code",
<<<<<<< HEAD
   "execution_count": 12,
   "metadata": {},
   "outputs": [
    {
     "name": "stdout",
     "output_type": "stream",
     "text": [
      "torch.Size([64, 10])\n",
      "tensor([[  8.6820, -19.3967,  -8.9770,   1.7874, -17.3228,  14.5682,  -1.5511,\n",
      "           5.2632,  17.4937,   0.5685],\n",
      "        [  6.0633, -27.1009,   6.6592,  -2.5206, -20.1123,  15.1687,   2.8697,\n",
      "          15.0788,   1.7627,   7.4079],\n",
      "        [  8.6330, -17.3988,  -7.5483,   2.2459, -22.2842,  12.4082,  -0.8249,\n",
      "          13.3970,  14.4195,   5.6361],\n",
      "        [ 11.2426, -21.6626,  -9.7525, -13.4229, -17.3264,  19.6938,   0.9160,\n",
      "          17.0787,   2.8542,  18.1055],\n",
      "        [  3.1807, -31.6994,  -3.7346,   2.4770,   3.5141,  10.3709,  -1.2666,\n",
      "           1.4773,  12.2438,  15.4267],\n",
      "        [  9.9248, -27.4457,  -9.2361,  -8.9757, -11.4967,  14.7209, -11.6948,\n",
      "           6.1267,  10.2275,  10.0130],\n",
      "        [ 11.3859,  -5.0697,  -7.2787,  -0.8019,  -8.7054,  13.3022,   7.9427,\n",
      "          10.3984,  11.1304,   5.2900],\n",
      "        [  3.2763, -31.2569,   4.0577,  -0.3837, -17.0169,  13.7670,  -3.2413,\n",
      "          13.2812,  18.2607,  10.3108],\n",
      "        [  4.2955, -25.9402,  -4.8692,  -6.2077, -13.4482,  13.8527,   0.5537,\n",
      "          13.3445,  16.4393,  22.1953],\n",
      "        [ 15.8875, -25.7143,  -8.3013,  -0.4918, -18.8245,   9.3698,   3.0526,\n",
      "          13.2458,   2.6479,  13.1803],\n",
      "        [  7.8237, -20.9209,  -6.6364,   6.7063, -17.2036,   8.5999,  -4.2368,\n",
      "          12.2694,  16.4423,  12.5681],\n",
      "        [  6.1480, -20.2595,  -7.0131,  -5.5313, -19.4494,  10.4715,   4.0258,\n",
      "          13.2650,   4.7551,   6.1473],\n",
      "        [  2.2688, -15.6523,  -8.7398,  -6.6826, -16.8687,   3.5951,  -6.1073,\n",
      "           8.7740,  10.0423,   7.9455],\n",
      "        [  7.4167, -19.2724,  -9.1716,  -5.7460,  -9.0189,  14.7058,   1.0954,\n",
      "           2.9801,  15.0086,  14.2670],\n",
      "        [  8.3240, -24.1347,   1.6840,   8.8706, -18.7736,  10.2635,   1.7429,\n",
      "          13.3989,   2.1670,  16.3988],\n",
      "        [  3.2452, -20.2377,   1.6381,   2.6904, -27.9417,  18.6827,  -7.3878,\n",
      "           2.9645,  13.5936,   3.8638],\n",
      "        [  1.6270, -23.1049,   0.2640,  -6.5778, -13.5054,  15.4117,  -2.2766,\n",
      "           1.4323,  -0.7555,   7.2720],\n",
      "        [  1.2037, -24.5657,   4.4954,  -3.7909, -19.6602,  13.6797,   3.5246,\n",
      "          12.4761,  11.3251,   6.7717],\n",
      "        [ 12.5997, -17.1375,   4.2012,  -5.7558, -20.2406,  14.2165,   8.7418,\n",
      "           4.9881,   9.8759,   6.4425],\n",
      "        [  8.7485, -30.4079,  -9.7958,  -2.6726, -12.0008,  12.9733,  -4.7868,\n",
      "          15.3813,  10.1689,   5.7429],\n",
      "        [ 11.7990, -19.5277, -10.1134,   0.5192, -22.4542,   9.2388,  -4.0652,\n",
      "          -1.3157,  14.6550,   6.0862],\n",
      "        [  0.3477, -16.5544,  -0.2775,  -5.3520, -17.1415,   9.1103,  -1.1281,\n",
      "          16.2928,   9.1678,  -0.6866],\n",
      "        [  3.7305, -24.9442,  -1.9047,  -0.8325, -13.8815,  17.8280,   3.2101,\n",
      "          12.7394,   6.6588,  15.3235],\n",
      "        [  4.8133, -27.8594,  -1.2348,  -0.2680, -14.1264,   6.7446,   7.3512,\n",
      "          -1.0339,   8.7310,  16.5715],\n",
      "        [  2.4811, -24.0948, -11.2487,  -4.9698,  -0.1716,  12.0653,  -9.6767,\n",
      "           7.6046,  11.2306,  15.1947],\n",
      "        [  8.7065, -13.4557,  -4.7509,   4.6422, -18.7939,  12.0559,  -2.7183,\n",
      "          12.0158,   1.9259,  18.7949],\n",
      "        [ 14.1255, -20.7230,  -4.2179,   4.7721, -10.9589,  18.3022,   6.4511,\n",
      "           9.4515,   6.3768,   8.5012],\n",
      "        [  9.8599, -24.7912,  -9.6324,  -5.7087,  -2.4471,  12.9712,  -4.4695,\n",
      "           9.6220,  12.8078,   5.1834],\n",
      "        [ 10.3380, -23.7060,  -5.7026,  -4.9143, -22.7220,  13.5565,  -2.0372,\n",
      "          15.5305,  15.2193,   6.1638],\n",
      "        [ 16.5813, -22.1075,  -5.2940,   1.7361, -21.1047,  15.2416,  -0.5956,\n",
      "           5.4998,  14.6755,   5.1004],\n",
      "        [  7.2219, -18.4834,  -6.3670,   1.2405,  -9.3238,  13.3727,   3.9524,\n",
      "          12.9087,  19.0164,   9.9651],\n",
      "        [  6.0906, -22.3529,   0.0784,   1.5112,  -9.2329,   8.3007,  10.4893,\n",
      "          -1.1562,   5.1904,  17.6844],\n",
      "        [ 10.3143, -19.7113, -16.4786,   1.5199, -22.9603,  13.8052,  -2.4932,\n",
      "           5.5989,  17.4607,   3.6172],\n",
      "        [ -1.7730, -23.1881,  -8.0745,   3.2359,  -9.1270,  16.9762,   2.9029,\n",
      "           9.4475,   3.6111,  13.5942],\n",
      "        [  7.2848, -24.6576, -10.0970,   4.7742, -14.3516,  12.8724,   6.1537,\n",
      "          19.0482,  -1.8254,  18.5546],\n",
      "        [  3.0606, -23.3891,  -3.0954,  -8.4781, -20.4303,  20.2591,   0.8790,\n",
      "           9.0348,  18.4410,   8.0670],\n",
      "        [  8.4741, -15.4948,  -6.2209,  -1.8934, -10.9745,  14.1699,   1.5719,\n",
      "           2.0091,   6.1149,  18.3713],\n",
      "        [ -3.2626, -19.6520,  -1.0952,   2.8163, -12.8746,  17.9917,   1.0478,\n",
      "           8.1200,   8.2341,   9.2315],\n",
      "        [ 11.3951, -24.6209,  -4.4936,   2.5384, -19.8298,  12.6710,   8.9569,\n",
      "          19.8117,  14.0528,   8.9779],\n",
      "        [  3.2266, -20.0159,  -6.3230,  -0.6094, -12.8030,  13.8301,   0.6119,\n",
      "           6.1532,  12.5318,  15.4443],\n",
      "        [  0.9099, -27.2979,  -7.5015,  -1.5016, -10.5421,  12.1828,  -2.0792,\n",
      "           4.8569,   6.3777,   6.0413],\n",
      "        [  5.5961, -21.6277,  -1.5205,  -7.4616, -15.4349,  13.1158,  -0.2959,\n",
      "          19.0841,  13.2510,  10.4342],\n",
      "        [  3.9410, -23.8034, -10.5978, -11.3792, -13.2963,   3.8797, -13.8222,\n",
      "          13.3483,  10.7153,  -2.7239],\n",
      "        [ 11.2386, -18.9434,  -8.6701,   1.1330, -20.9682,  10.3043,   0.8948,\n",
      "           2.6836,   1.0978,  11.8673],\n",
      "        [ 21.0885, -20.4259,  -8.1620,   2.6489,  -8.9639,  19.1547,   0.7170,\n",
      "          10.3749,   9.6201,  11.3784],\n",
      "        [  9.2408, -18.5635, -15.6723,  -8.4186, -20.5474,  10.0864,  -9.4141,\n",
      "          10.8439,  10.0028,   6.2667],\n",
      "        [  9.9491, -20.9610,  -2.2700,   0.8475, -14.8764,  22.0834,   6.2027,\n",
      "           8.3528,  21.3790,   9.9248],\n",
      "        [  7.1109, -23.7276,  -8.6546,   2.9548, -28.8820,  11.7922,  -4.3295,\n",
      "           1.7577,  10.8518,   5.4164],\n",
      "        [  4.8634, -16.6361,  -7.6535,   6.1530, -17.4274,   8.4873,   7.9560,\n",
      "          12.3661,   0.1832,   0.1618],\n",
      "        [ 10.2870, -23.8523,  -7.6033,   3.1180, -14.2061,  11.7203,   7.5322,\n",
      "           5.6133,   5.3762,   8.9259],\n",
      "        [  5.7020, -21.7979,   0.7675,   2.1195, -17.5715,  21.6326,  -3.8123,\n",
      "           6.3891,   6.6786,   8.2829],\n",
      "        [ 16.0547, -29.5464,   0.3760,   9.1309, -17.3036,   9.6894,  -1.3091,\n",
      "          14.6068,   7.5852,   8.8118],\n",
      "        [ 10.9304, -21.2477, -25.6797,   0.1396,  -6.9322,  15.9651,   2.7658,\n",
      "          25.6602,   2.2984,  17.5060],\n",
      "        [ 13.1126, -17.4841,  -7.0360,   2.1601,  -6.8157,  12.2493,   2.0071,\n",
      "          13.6751,  13.1743,  10.4657],\n",
      "        [  9.5388, -25.0492,   5.7526,   0.5129, -15.9199,  11.8159,   4.9641,\n",
      "          10.3158,   4.5210,  19.7399],\n",
      "        [  6.1083, -22.9879,  -3.4331,   3.4518, -21.2095,  13.6032,  -2.6450,\n",
      "          10.2337,  18.1983,  12.7150],\n",
      "        [  6.3466, -22.2710,  -7.1601,   7.5227, -23.4704,   6.0577,   0.8621,\n",
      "           1.7872,  20.7010,   4.4762],\n",
      "        [  8.0096, -23.1769,  -9.1666,  -3.8180, -21.2195,   9.2710, -11.6706,\n",
      "          10.6990,  13.6858,   8.5081],\n",
      "        [ -6.8627, -21.1270,  -1.9539,  -2.7143, -15.8638,   7.8252,  -5.4174,\n",
      "           4.9870,   4.3444,  11.1895],\n",
      "        [ 14.7024, -13.6930,  -5.5162,   5.0582, -20.9739,  13.6319,  11.7844,\n",
      "           8.5038,  13.2935,   3.8474],\n",
      "        [  1.0956, -17.2674,   1.1453,  -2.5105, -12.2084,   3.3922,   1.3037,\n",
      "          15.1194,  14.4663,  -1.8289],\n",
      "        [  5.1717, -15.9708,  -8.4289,  -7.2940, -17.4957,  21.7958,   1.4546,\n",
      "          11.2179,   2.8598,   9.6754],\n",
      "        [  5.7812, -23.0755, -10.8552,   3.4717, -11.7171,   8.0834,  -1.1442,\n",
      "           1.3821,  10.9965,   6.1729],\n",
      "        [ 20.8986, -23.4158,  -8.6651,   0.9485, -21.4881,  11.2364,   2.6245,\n",
      "          15.6566,  15.1078,  13.8211]])\n"
     ]
    }
   ],
   "source": [
    "## Your solution\n",
    "def activation(x):\n",
    "    return 1/(1+torch.exp(-x))\n",
    "\n",
    "# Flatten the input images\n",
    "inputs = images.view(images.shape[0], -1)\n",
    "\n",
    "# Create parameters\n",
    "w1 = torch.randn(784, 256)\n",
    "b1 = torch.rand(256)\n",
    "\n",
    "w2 = torch.randn(256, 10)\n",
    "b2 = torch.rand(10)\n",
    "\n",
    "h = activation(torch.mm(inputs, w1) + b1)\n",
    "\n",
    "# output of your network, should have shape (64,10)\n",
    "out = torch.mm(h, w2)+ b2 \n",
    "print(out.shape)\n",
    "print(out)"
=======
   "execution_count": null,
   "metadata": {},
   "outputs": [],
   "source": [
    "## Your solution\n",
    "\n",
    "\n",
    "out = # output of your network, should have shape (64,10)"
>>>>>>> f7eab40968ea95fd33f463cecaec4bb8cd2669fa
   ]
  },
  {
   "cell_type": "markdown",
   "metadata": {},
   "source": [
    "Now we have 10 outputs for our network. We want to pass in an image to our network and get out a probability distribution over the classes that tells us the likely class(es) the image belongs to. Something that looks like this:\n",
    "<img src='assets/image_distribution.png' width=500px>\n",
    "\n",
    "Here we see that the probability for each class is roughly the same. This is representing an untrained network, it hasn't seen any data yet so it just returns a uniform distribution with equal probabilities for each class.\n",
    "\n",
    "To calculate this probability distribution, we often use the [**softmax** function](https://en.wikipedia.org/wiki/Softmax_function). Mathematically this looks like\n",
    "\n",
    "$$\n",
    "\\Large \\sigma(x_i) = \\cfrac{e^{x_i}}{\\sum_k^K{e^{x_k}}}\n",
    "$$\n",
    "\n",
    "What this does is squish each input $x_i$ between 0 and 1 and normalizes the values to give you a proper probability distribution where the probabilites sum up to one.\n",
    "\n",
    "> **Exercise:** Implement a function `softmax` that performs the softmax calculation and returns probability distributions for each example in the batch. Note that you'll need to pay attention to the shapes when doing this. If you have a tensor `a` with shape `(64, 10)` and a tensor `b` with shape `(64,)`, doing `a/b` will give you an error because PyTorch will try to do the division across the columns (called broadcasting) but you'll get a size mismatch. The way to think about this is for each of the 64 examples, you only want to divide by one value, the sum in the denominator. So you need `b` to have a shape of `(64, 1)`. This way PyTorch will divide the 10 values in each row of `a` by the one value in each row of `b`. Pay attention to how you take the sum as well. You'll need to define the `dim` keyword in `torch.sum`. Setting `dim=0` takes the sum across the rows while `dim=1` takes the sum across the columns."
   ]
  },
  {
   "cell_type": "code",
<<<<<<< HEAD
   "execution_count": 13,
   "metadata": {},
   "outputs": [
    {
     "name": "stdout",
     "output_type": "stream",
     "text": [
      "torch.Size([64, 10])\n",
      "tensor([1.0000, 1.0000, 1.0000, 1.0000, 1.0000, 1.0000, 1.0000, 1.0000, 1.0000,\n",
      "        1.0000, 1.0000, 1.0000, 1.0000, 1.0000, 1.0000, 1.0000, 1.0000, 1.0000,\n",
      "        1.0000, 1.0000, 1.0000, 1.0000, 1.0000, 1.0000, 1.0000, 1.0000, 1.0000,\n",
      "        1.0000, 1.0000, 1.0000, 1.0000, 1.0000, 1.0000, 1.0000, 1.0000, 1.0000,\n",
      "        1.0000, 1.0000, 1.0000, 1.0000, 1.0000, 1.0000, 1.0000, 1.0000, 1.0000,\n",
      "        1.0000, 1.0000, 1.0000, 1.0000, 1.0000, 1.0000, 1.0000, 1.0000, 1.0000,\n",
      "        1.0000, 1.0000, 1.0000, 1.0000, 1.0000, 1.0000, 1.0000, 1.0000, 1.0000,\n",
      "        1.0000])\n"
     ]
    }
   ],
   "source": [
    "def softmax(x):\n",
    "    ## TODO: Implement the softmax function here\n",
    "    return torch.exp(x)/torch.sum(torch.exp(x), dim=1).view(-1,1)\n",
=======
   "execution_count": null,
   "metadata": {},
   "outputs": [],
   "source": [
    "def softmax(x):\n",
    "    ## TODO: Implement the softmax function here\n",
>>>>>>> f7eab40968ea95fd33f463cecaec4bb8cd2669fa
    "\n",
    "# Here, out should be the output of the network in the previous excercise with shape (64,10)\n",
    "probabilities = softmax(out)\n",
    "\n",
    "# Does it have the right shape? Should be (64, 10)\n",
    "print(probabilities.shape)\n",
    "# Does it sum to 1?\n",
    "print(probabilities.sum(dim=1))"
   ]
  },
  {
   "cell_type": "markdown",
   "metadata": {},
   "source": [
    "## Building networks with PyTorch\n",
    "\n",
    "PyTorch provides a module `nn` that makes building networks much simpler. Here I'll show you how to build the same one as above with 784 inputs, 256 hidden units, 10 output units and a softmax output."
   ]
  },
  {
   "cell_type": "code",
<<<<<<< HEAD
   "execution_count": 14,
=======
   "execution_count": null,
>>>>>>> f7eab40968ea95fd33f463cecaec4bb8cd2669fa
   "metadata": {},
   "outputs": [],
   "source": [
    "from torch import nn"
   ]
  },
  {
   "cell_type": "code",
<<<<<<< HEAD
   "execution_count": 15,
=======
   "execution_count": null,
>>>>>>> f7eab40968ea95fd33f463cecaec4bb8cd2669fa
   "metadata": {},
   "outputs": [],
   "source": [
    "class Network(nn.Module):\n",
    "    def __init__(self):\n",
    "        super().__init__()\n",
    "        \n",
    "        # Inputs to hidden layer linear transformation\n",
    "        self.hidden = nn.Linear(784, 256)\n",
    "        # Output layer, 10 units - one for each digit\n",
    "        self.output = nn.Linear(256, 10)\n",
    "        \n",
    "        # Define sigmoid activation and softmax output \n",
    "        self.sigmoid = nn.Sigmoid()\n",
    "        self.softmax = nn.Softmax(dim=1)\n",
    "        \n",
    "    def forward(self, x):\n",
    "        # Pass the input tensor through each of our operations\n",
    "        x = self.hidden(x)\n",
    "        x = self.sigmoid(x)\n",
    "        x = self.output(x)\n",
    "        x = self.softmax(x)\n",
    "        \n",
    "        return x"
   ]
  },
  {
   "cell_type": "markdown",
   "metadata": {},
   "source": [
    "Let's go through this bit by bit.\n",
    "\n",
    "```python\n",
    "class Network(nn.Module):\n",
    "```\n",
    "\n",
    "Here we're inheriting from `nn.Module`. Combined with `super().__init__()` this creates a class that tracks the architecture and provides a lot of useful methods and attributes. It is mandatory to inherit from `nn.Module` when you're creating a class for your network. The name of the class itself can be anything.\n",
    "\n",
    "```python\n",
    "self.hidden = nn.Linear(784, 256)\n",
    "```\n",
    "\n",
    "This line creates a module for a linear transformation, $x\\mathbf{W} + b$, with 784 inputs and 256 outputs and assigns it to `self.hidden`. The module automatically creates the weight and bias tensors which we'll use in the `forward` method. You can access the weight and bias tensors once the network once it's create at `net.hidden.weight` and `net.hidden.bias`.\n",
    "\n",
    "```python\n",
    "self.output = nn.Linear(256, 10)\n",
    "```\n",
    "\n",
    "Similarly, this creates another linear transformation with 256 inputs and 10 outputs.\n",
    "\n",
    "```python\n",
    "self.sigmoid = nn.Sigmoid()\n",
    "self.softmax = nn.Softmax(dim=1)\n",
    "```\n",
    "\n",
    "Here I defined operations for the sigmoid activation and softmax output. Setting `dim=1` in `nn.Softmax(dim=1)` calculates softmax across the columns.\n",
    "\n",
    "```python\n",
    "def forward(self, x):\n",
    "```\n",
    "\n",
    "PyTorch networks created with `nn.Module` must have a `forward` method defined. It takes in a tensor `x` and passes it through the operations you defined in the `__init__` method.\n",
    "\n",
    "```python\n",
    "x = self.hidden(x)\n",
    "x = self.sigmoid(x)\n",
    "x = self.output(x)\n",
    "x = self.softmax(x)\n",
    "```\n",
    "\n",
    "Here the input tensor `x` is passed through each operation a reassigned to `x`. We can see that the input tensor goes through the hidden layer, then a sigmoid function, then the output layer, and finally the softmax function. It doesn't matter what you name the variables here, as long as the inputs and outputs of the operations match the network architecture you want to build. The order in which you define things in the `__init__` method doesn't matter, but you'll need to sequence the operations correctly in the `forward` method.\n",
    "\n",
    "Now we can create a `Network` object."
   ]
  },
  {
   "cell_type": "code",
<<<<<<< HEAD
   "execution_count": 16,
   "metadata": {},
   "outputs": [
    {
     "data": {
      "text/plain": [
       "Network(\n",
       "  (hidden): Linear(in_features=784, out_features=256, bias=True)\n",
       "  (output): Linear(in_features=256, out_features=10, bias=True)\n",
       "  (sigmoid): Sigmoid()\n",
       "  (softmax): Softmax()\n",
       ")"
      ]
     },
     "execution_count": 16,
     "metadata": {},
     "output_type": "execute_result"
    }
   ],
=======
   "execution_count": null,
   "metadata": {},
   "outputs": [],
>>>>>>> f7eab40968ea95fd33f463cecaec4bb8cd2669fa
   "source": [
    "# Create the network and look at it's text representation\n",
    "model = Network()\n",
    "model"
   ]
  },
  {
   "cell_type": "markdown",
   "metadata": {},
   "source": [
    "You can define the network somewhat more concisely and clearly using the `torch.nn.functional` module. This is the most common way you'll see networks defined as many operations are simple element-wise functions. We normally import this module as `F`, `import torch.nn.functional as F`."
   ]
  },
  {
   "cell_type": "code",
<<<<<<< HEAD
   "execution_count": 17,
=======
   "execution_count": null,
>>>>>>> f7eab40968ea95fd33f463cecaec4bb8cd2669fa
   "metadata": {},
   "outputs": [],
   "source": [
    "import torch.nn.functional as F\n",
    "\n",
    "class Network(nn.Module):\n",
    "    def __init__(self):\n",
    "        super().__init__()\n",
    "        # Inputs to hidden layer linear transformation\n",
    "        self.hidden = nn.Linear(784, 256)\n",
    "        # Output layer, 10 units - one for each digit\n",
    "        self.output = nn.Linear(256, 10)\n",
    "        \n",
    "    def forward(self, x):\n",
    "        # Hidden layer with sigmoid activation\n",
    "        x = F.sigmoid(self.hidden(x))\n",
    "        # Output layer with softmax activation\n",
    "        x = F.softmax(self.output(x), dim=1)\n",
    "        \n",
    "        return x"
   ]
  },
  {
   "cell_type": "markdown",
   "metadata": {},
   "source": [
    "### Activation functions\n",
    "\n",
    "So far we've only been looking at the softmax activation, but in general any function can be used as an activation function. The only requirement is that for a network to approximate a non-linear function, the activation functions must be non-linear. Here are a few more examples of common activation functions: Tanh (hyperbolic tangent), and ReLU (rectified linear unit).\n",
    "\n",
    "<img src=\"assets/activation.png\" width=700px>\n",
    "\n",
    "In practice, the ReLU function is used almost exclusively as the activation function for hidden layers."
   ]
  },
  {
   "cell_type": "markdown",
   "metadata": {},
   "source": [
    "### Your Turn to Build a Network\n",
    "\n",
    "<img src=\"assets/mlp_mnist.png\" width=600px>\n",
    "\n",
    "> **Exercise:** Create a network with 784 input units, a hidden layer with 128 units and a ReLU activation, then a hidden layer with 64 units and a ReLU activation, and finally an output layer with a softmax activation as shown above. You can use a ReLU activation with the `nn.ReLU` module or `F.relu` function."
   ]
  },
  {
   "cell_type": "code",
   "execution_count": null,
   "metadata": {
    "scrolled": true
   },
   "outputs": [],
   "source": [
    "## Your solution here\n"
   ]
  },
  {
   "cell_type": "markdown",
   "metadata": {},
   "source": [
    "### Initializing weights and biases\n",
    "\n",
    "The weights and such are automatically initialized for you, but it's possible to customize how they are initialized. The weights and biases are tensors attached to the layer you defined, you can get them with `model.fc1.weight` for instance."
   ]
  },
  {
   "cell_type": "code",
   "execution_count": null,
   "metadata": {},
   "outputs": [],
   "source": [
    "print(model.fc1.weight)\n",
    "print(model.fc1.bias)"
   ]
  },
  {
   "cell_type": "markdown",
   "metadata": {},
   "source": [
    "For custom initialization, we want to modify these tensors in place. These are actually autograd *Variables*, so we need to get back the actual tensors with `model.fc1.weight.data`. Once we have the tensors, we can fill them with zeros (for biases) or random normal values."
   ]
  },
  {
   "cell_type": "code",
   "execution_count": null,
   "metadata": {},
   "outputs": [],
   "source": [
    "# Set biases to all zeros\n",
    "model.fc1.bias.data.fill_(0)"
   ]
  },
  {
   "cell_type": "code",
   "execution_count": null,
   "metadata": {},
   "outputs": [],
   "source": [
    "# sample from random normal with standard dev = 0.01\n",
    "model.fc1.weight.data.normal_(std=0.01)"
   ]
  },
  {
   "cell_type": "markdown",
   "metadata": {},
   "source": [
    "### Forward pass\n",
    "\n",
    "Now that we have a network, let's see what happens when we pass in an image."
   ]
  },
  {
   "cell_type": "code",
   "execution_count": null,
   "metadata": {},
   "outputs": [],
   "source": [
    "# Grab some data \n",
    "dataiter = iter(trainloader)\n",
    "images, labels = dataiter.next()\n",
    "\n",
    "# Resize images into a 1D vector, new shape is (batch size, color channels, image pixels) \n",
    "images.resize_(64, 1, 784)\n",
    "# or images.resize_(images.shape[0], 1, 784) to automatically get batch size\n",
    "\n",
    "# Forward pass through the network\n",
    "img_idx = 0\n",
    "ps = model.forward(images[img_idx,:])\n",
    "\n",
    "img = images[img_idx]\n",
    "helper.view_classify(img.view(1, 28, 28), ps)"
   ]
  },
  {
   "cell_type": "markdown",
   "metadata": {},
   "source": [
    "As you can see above, our network has basically no idea what this digit is. It's because we haven't trained it yet, all the weights are random!\n",
    "\n",
    "### Using `nn.Sequential`\n",
    "\n",
    "PyTorch provides a convenient way to build networks like this where a tensor is passed sequentially through operations, `nn.Sequential` ([documentation](https://pytorch.org/docs/master/nn.html#torch.nn.Sequential)). Using this to build the equivalent network:"
   ]
  },
  {
   "cell_type": "code",
   "execution_count": null,
   "metadata": {},
   "outputs": [],
   "source": [
    "# Hyperparameters for our network\n",
    "input_size = 784\n",
    "hidden_sizes = [128, 64]\n",
    "output_size = 10\n",
    "\n",
    "# Build a feed-forward network\n",
    "model = nn.Sequential(nn.Linear(input_size, hidden_sizes[0]),\n",
    "                      nn.ReLU(),\n",
    "                      nn.Linear(hidden_sizes[0], hidden_sizes[1]),\n",
    "                      nn.ReLU(),\n",
    "                      nn.Linear(hidden_sizes[1], output_size),\n",
    "                      nn.Softmax(dim=1))\n",
    "print(model)\n",
    "\n",
    "# Forward pass through the network and display output\n",
    "images, labels = next(iter(trainloader))\n",
    "images.resize_(images.shape[0], 1, 784)\n",
    "ps = model.forward(images[0,:])\n",
    "helper.view_classify(images[0].view(1, 28, 28), ps)"
   ]
  },
  {
   "cell_type": "markdown",
   "metadata": {},
   "source": [
    "Here our model is the same as before: 784 input units, a hidden layer with 128 units, ReLU activation, 64 unit hidden layer, another ReLU, then the output layer with 10 units, and the softmax output.\n",
    "\n",
    "The operations are availble by passing in the appropriate index. For example, if you want to get first Linear operation and look at the weights, you'd use `model[0]`."
   ]
  },
  {
   "cell_type": "code",
   "execution_count": null,
   "metadata": {},
   "outputs": [],
   "source": [
    "print(model[0])\n",
    "model[0].weight"
   ]
  },
  {
   "cell_type": "markdown",
   "metadata": {},
   "source": [
    "You can also pass in an `OrderedDict` to name the individual layers and operations, instead of using incremental integers. Note that dictionary keys must be unique, so _each operation must have a different name_."
   ]
  },
  {
   "cell_type": "code",
   "execution_count": null,
   "metadata": {},
   "outputs": [],
   "source": [
    "from collections import OrderedDict\n",
    "model = nn.Sequential(OrderedDict([\n",
    "                      ('fc1', nn.Linear(input_size, hidden_sizes[0])),\n",
    "                      ('relu1', nn.ReLU()),\n",
    "                      ('fc2', nn.Linear(hidden_sizes[0], hidden_sizes[1])),\n",
    "                      ('relu2', nn.ReLU()),\n",
    "                      ('output', nn.Linear(hidden_sizes[1], output_size)),\n",
    "                      ('softmax', nn.Softmax(dim=1))]))\n",
    "model"
   ]
  },
  {
   "cell_type": "markdown",
   "metadata": {},
   "source": [
    "Now you can access layers either by integer or the name"
   ]
  },
  {
   "cell_type": "code",
   "execution_count": null,
   "metadata": {},
   "outputs": [],
   "source": [
    "print(model[0])\n",
    "print(model.fc1)"
   ]
  },
  {
   "cell_type": "markdown",
   "metadata": {},
   "source": [
    "In the next notebook, we'll see how we can train a neural network to accuractly predict the numbers appearing in the MNIST images."
   ]
  }
 ],
 "metadata": {
  "kernelspec": {
   "display_name": "Python 3",
   "language": "python",
   "name": "python3"
  },
  "language_info": {
   "codemirror_mode": {
    "name": "ipython",
    "version": 3
   },
   "file_extension": ".py",
   "mimetype": "text/x-python",
   "name": "python",
   "nbconvert_exporter": "python",
   "pygments_lexer": "ipython3",
<<<<<<< HEAD
   "version": "3.6.7"
=======
   "version": "3.6.6"
>>>>>>> f7eab40968ea95fd33f463cecaec4bb8cd2669fa
  }
 },
 "nbformat": 4,
 "nbformat_minor": 2
}
